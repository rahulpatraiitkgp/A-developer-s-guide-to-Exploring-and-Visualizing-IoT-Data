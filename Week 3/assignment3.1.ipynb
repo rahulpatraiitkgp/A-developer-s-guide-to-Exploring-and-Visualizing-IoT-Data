{
 "cells": [
  {
   "cell_type": "markdown",
   "metadata": {
    "collapsed": false
   },
   "source": [
    "# Assignment 3\n",
    "\n",
    "Welcome to Assignment 3. This will be even more fun. Now we will calculate statistical measures on the test data you have created.\n",
    "\n",
    "YOU ARE NOT ALLOWED TO USE ANY OTHER 3RD PARTY LIBRARIES LIKE PANDAS. PLEASE ONLY MODIFY CONTENT INSIDE THE FUNCTION SKELETONS",
    "\n",
    "Please read why: https://www.coursera.org/learn/exploring-visualizing-iot-data/discussions/weeks/3/threads/skjCbNgeEeapeQ5W6suLkA",
    "\n",
    ". Just make sure you hit the play button on each cell from top to down. There are seven functions you have to implement. Please also make sure than on each change on a function you hit the play button again on the corresponding cell to make it available to the rest of this notebook.\n",
    "Please also make sure to only implement the function bodies and DON'T add any additional code outside functions since this might confuse the autograder.\n",
    "\n",
    "So the function below is used to make it easy for you to create a data frame from a cloudant data frame using the so called \"DataSource\" which is some sort of a plugin which allows ApacheSpark to use different data sources.\n"
   ]
  },
  {
   "cell_type": "code",
   "execution_count": 1,
   "metadata": {
    "collapsed": true
   },
   "outputs": [],
   "source": [
    "#Please don't modify this function\n",
    "def readDataFrameFromCloudant(host,user,pw,database):\n",
    "    cloudantdata=spark.read.format(\"com.cloudant.spark\"). \\\n",
    "    option(\"cloudant.host\",host). \\\n",
    "    option(\"cloudant.username\", user). \\\n",
    "    option(\"cloudant.password\", pw). \\\n",
    "    load(database)\n",
    "\n",
    "    cloudantdata.createOrReplaceTempView(\"washing\")\n",
    "    spark.sql(\"SELECT * from washing\").show()\n",
    "    return cloudantdata"
   ]
  },
  {
   "cell_type": "markdown",
   "metadata": {},
   "source": [
    "All functions can be implemented using DataFrames, ApacheSparkSQL or RDDs. We are only interested in the result. You are given the reference to the data frame in the \"df\" parameter and in case you want to use SQL just use the \"spark\" parameter which is a reference to the global SparkSession object. Finally if you want to use RDDs just use \"df.rdd\" for obtaining a reference to the underlying RDD object. \n",
    "\n",
    "Let's start with the first function. Please calculate the minimal temperature for the test data set you have created. We've provided a little skeleton for you in case you want to use SQL. You can use this skeleton for all subsequent functions. Everything can be implemented using SQL only if you like."
   ]
  },
  {
   "cell_type": "code",
   "execution_count": 2,
   "metadata": {
    "collapsed": true
   },
   "outputs": [],
   "source": [
    "def minTemperature(df,spark):\n",
    "    return spark.sql(\"SELECT ##INSERT YOUR CODE HERE## as mintemp from washing\").first().mintemp"
   ]
  },
  {
   "cell_type": "markdown",
   "metadata": {},
   "source": [
    "Please now do the same for the mean of the temperature"
   ]
  },
  {
   "cell_type": "code",
   "execution_count": 3,
   "metadata": {
    "collapsed": true
   },
   "outputs": [],
   "source": [
    "def meanTemperature(df,spark):\n",
    "    return ##INSERT YOUR CODE HERE##"
   ]
  },
  {
   "cell_type": "markdown",
   "metadata": {},
   "source": [
    "Please now do the same for the maximum of the temperature"
   ]
  },
  {
   "cell_type": "code",
   "execution_count": 4,
   "metadata": {
    "collapsed": true
   },
   "outputs": [],
   "source": [
    "def maxTemperature(df,spark):\n",
    "    return ##INSERT YOUR CODE HERE##"
   ]
  },
  {
   "cell_type": "markdown",
   "metadata": {},
   "source": [
    "Please now do the same for the standard deviation of the temperature"
   ]
  },
  {
   "cell_type": "code",
   "execution_count": 5,
   "metadata": {
    "collapsed": true
   },
   "outputs": [],
   "source": [
    "def sdTemperature(df,spark):\n",
    "    return ##INSERT YOUR CODE HERE##"
   ]
  },
  {
   "cell_type": "markdown",
   "metadata": {},
   "source": [
    "Please now do the same for the skew of the temperature. Since the SQL statement for this is a bit more complicated we've provided a skeleton for you. You have to insert custom code at four position in order to make the function work. Alternatively you can also remove everything and implement if on your own. Note that we are making use of two previously defined functions, so please make sure they are correct. Also note that we are making use of python's string formatting capabilitis where the results of the two function calls to \"meanTemperature\" and \"sdTemperature\" are inserted at the \"%s\" symbols in the SQL string."
   ]
  },
  {
   "cell_type": "code",
   "execution_count": 7,
   "metadata": {
    "collapsed": false
   },
   "outputs": [],
   "source": [
    "def skewTemperature(df,spark):    \n",
    "    return spark.sql(\"\"\"\n",
    "SELECT \n",
    "    (\n",
    "        1/##INSERT YOUR CODE HERE##\n",
    "    ) *\n",
    "    SUM (\n",
    "        POWER(##INSERT YOUR CODE HERE##-%s,3)/POWER(%s,3)\n",
    "    )\n",
    "\n",
    "as ##INSERT YOUR CODE HERE## from washing\n",
    "                    \"\"\" %(meanTemperature(df,spark),sdTemperature(df,spark)))##INSERT YOUR CODE HERE##"
   ]
  },
  {
   "cell_type": "markdown",
   "metadata": {},
   "source": [
    "Kurtosis is the 4th statistical moment, so if you are smart you can make use of the code for skew which is the 3rd statistical moment. Actually only two things are different."
   ]
  },
  {
   "cell_type": "code",
   "execution_count": 8,
   "metadata": {
    "collapsed": true
   },
   "outputs": [],
   "source": [
    "def kurtosisTemperature(df,spark):    \n",
    "    return ##INSERT YOUR CODE HERE##"
   ]
  },
  {
   "cell_type": "markdown",
   "metadata": {},
   "source": [
    "Just a hint. This can be solved easily using SQL as well, but as shown in the lecture also using RDDs."
   ]
  },
  {
   "cell_type": "code",
   "execution_count": 10,
   "metadata": {
    "collapsed": true
   },
   "outputs": [],
   "source": [
    "def correlationTemperatureHardness(df,spark):\n",
    "    return ##INSERT YOUR CODE HERE##"
   ]
  },
  {
   "cell_type": "markdown",
   "metadata": {},
   "source": [
    "### PLEASE DON'T REMOVE THIS BLOCK - THE FOLLOWING CODE IS NOT GRADED\n",
    "#axx\n",
    "### PLEASE DON'T REMOVE THIS BLOCK - THE FOLLOWING CODE IS NOT GRADED"
   ]
  },
  {
   "cell_type": "code",
   "execution_count": 108,
   "metadata": {
    "collapsed": false
   },
   "outputs": [
    {
     "name": "stdout",
     "output_type": "stream",
     "text": [
      "+--------------------+--------------------+-----+--------+----------+---------+--------+-----+-----------+-------------+-------+\n",
      "|                 _id|                _rev|count|flowrate|fluidlevel|frequency|hardness|speed|temperature|           ts|voltage|\n",
      "+--------------------+--------------------+-----+--------+----------+---------+--------+-----+-----------+-------------+-------+\n",
      "|00433543cd1b9c6f4...|1-56a9192009049c7...| 2493|    null|      null|     null|    null| 1259|       null|1480435851831|   null|\n",
      "|00433543cd1b9c6f4...|1-d335fa3bddcf4aa...| 4155|    null|      null|       72|    null| null|       null|1480435854844|    237|\n",
      "|00433543cd1b9c6f4...|1-348922ba236fa02...|12464|      11|acceptable|     null|     105| null|         99|1480435871046|   null|\n",
      "|00433543cd1b9c6f4...|1-52ecbdba397f70b...|12468|      11|acceptable|     null|     125| null|         95|1480435875052|   null|\n",
      "|00433543cd1b9c6f4...|1-90a7e486051f07c...| 2499|    null|      null|     null|    null| 1298|       null|1480435881841|   null|\n",
      "|00433543cd1b9c6f4...|1-000fd8f5457cea8...|12478|      11|acceptable|     null|     175| null|        100|1480435885069|   null|\n",
      "|00433543cd1b9c6f4...|1-9ded0b0acd53716...| 2502|    null|      null|     null|    null| 1084|       null|1480435896845|   null|\n",
      "|00433543cd1b9c6f4...|1-379bb80aac977a7...|12500|      11|acceptable|     null|      77| null|         87|1480435907109|   null|\n",
      "|00433543cd1b9c6f4...|1-91984d5ddab7c1e...|12502|      11|acceptable|     null|      71| null|         86|1480435909113|   null|\n",
      "|00433543cd1b9c6f4...|1-33f4e9733e9c345...|12519|      11|acceptable|     null|      76| null|         85|1480435926143|   null|\n",
      "|00433543cd1b9c6f4...|1-4c6ba82ea579a06...|12520|      11|acceptable|     null|      76| null|         97|1480435927144|   null|\n",
      "|00433543cd1b9c6f4...|1-3a0ec91bff1d804...| 2512|    null|      null|     null|    null| 1023|       null|1480435946862|   null|\n",
      "|00433543cd1b9c6f4...|1-8d93424b0b9957b...| 4190|    null|      null|       60|    null| null|       null|1480435959910|    230|\n",
      "|00433543cd1b9c6f4...|1-c15f12d63c9e36b...|12556|      11|acceptable|     null|      71| null|         88|1480435963217|   null|\n",
      "|00433543cd1b9c6f4...|1-8d197b3cf623835...|12561|      11|acceptable|     null|      74| null|         95|1480435968226|   null|\n",
      "|00433543cd1b9c6f4...|1-8aba52859f5b338...| 4195|    null|      null|       66|    null| null|       null|1480435974920|    244|\n",
      "|00433543cd1b9c6f4...|1-791b4f657f8e66f...| 4196|    null|      null|       71|    null| null|       null|1480435977922|    253|\n",
      "|00433543cd1b9c6f4...|1-74a604a89eab53e...|12598|      11|acceptable|     null|     170| null|         80|1480436005298|   null|\n",
      "|00433543cd1b9c6f4...|1-dab7cc1ae0b2fcc...|12606|      11|acceptable|     null|     186| null|         87|1480436013321|   null|\n",
      "|00433543cd1b9c6f4...|1-00e8ab9617cc3f2...| 2527|    null|      null|     null|    null| 1097|       null|1480436021887|   null|\n",
      "+--------------------+--------------------+-----+--------+----------+---------+--------+-----+-----------+-------------+-------+\n",
      "only showing top 20 rows\n",
      "\n"
     ]
    }
   ],
   "source": [
    "#TODO Please provide your Cloudant credentials here\n",
    "hostname = \"\"\n",
    "user = \"\"\n",
    "pw = \"\"\n",
    "database = \"washing\"\n",
    "cloudantdata=readDataFrameFromCloudant(hostname, user, pw, database)"
   ]
  },
  {
   "cell_type": "code",
   "execution_count": null,
   "metadata": {
    "collapsed": true
   },
   "outputs": [],
   "source": [
    "minTemperature(cloudantdata,spark)"
   ]
  },
  {
   "cell_type": "code",
   "execution_count": null,
   "metadata": {
    "collapsed": true
   },
   "outputs": [],
   "source": [
    "meanTemperature(cloudantdata,spark)"
   ]
  },
  {
   "cell_type": "code",
   "execution_count": null,
   "metadata": {
    "collapsed": true
   },
   "outputs": [],
   "source": [
    "maxTemperature(cloudantdata,spark)"
   ]
  },
  {
   "cell_type": "code",
   "execution_count": null,
   "metadata": {
    "collapsed": true
   },
   "outputs": [],
   "source": [
    "sdTemperature(cloudantdata,spark)"
   ]
  },
  {
   "cell_type": "code",
   "execution_count": null,
   "metadata": {
    "collapsed": true
   },
   "outputs": [],
   "source": [
    "skewTemperature(cloudantdata,spark)"
   ]
  },
  {
   "cell_type": "code",
   "execution_count": null,
   "metadata": {
    "collapsed": true
   },
   "outputs": [],
   "source": [
    "kurtosisTemperature(cloudantdata,spark)"
   ]
  },
  {
   "cell_type": "code",
   "execution_count": null,
   "metadata": {
    "collapsed": true
   },
   "outputs": [],
   "source": [
    "correlationTemperatureHardness(cloudantdata,spark)"
   ]
  },
  {
   "cell_type": "markdown",
   "metadata": {},
   "source": [
    "Congratulations, you are done, please download this notebook as python file using the export function and submit is to the gader using the filename \"assignment3.1.py\""
   ]
  }
 ],
 "metadata": {
  "kernelspec": {
   "display_name": "Python 2 with Spark 2.0",
   "language": "python",
   "name": "python2-spark20"
  },
  "language_info": {
   "codemirror_mode": {
    "name": "ipython",
    "version": 2
   },
   "file_extension": ".py",
   "mimetype": "text/x-python",
   "name": "python",
   "nbconvert_exporter": "python",
   "pygments_lexer": "ipython2",
   "version": "2.7.11"
  }
 },
 "nbformat": 4,
 "nbformat_minor": 0
}
